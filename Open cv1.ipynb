{
 "cells": [
  {
   "cell_type": "code",
   "execution_count": null,
   "id": "de4fef30",
   "metadata": {},
   "outputs": [],
   "source": [
    "pip install opencv-python"
   ]
  },
  {
   "cell_type": "code",
   "execution_count": null,
   "id": "0faf261b",
   "metadata": {},
   "outputs": [],
   "source": [
    "cam = cv2. VideoCapture(0)#real team\n",
    "\n",
    "#looping \n",
    "while True:\n",
    "    _, img = cam.read()#jika variabelimgsudah dibaca maka akan ditampilkan pada kameraku nyala\n",
    "    img = cv2.flip(img, 1)#agar gambar kita sesuai pergerakan tidak tebalik maksudnya jika kita bergerak kanan maka akan kanan\n",
    "    blue = cv2.cvtColor(img, cv2.CALOR_BGR2BLUE)\n",
    "    \n",
    "    cv2.imshow(\"Kamera biru\", blue)\n",
    "    cv2.imshow(\"Kamera Ku Nyala\", img)\n",
    "    if cv2.waitKey(27) & 0xff == ord(\"x\"):#untuk menampilkan cam\n",
    "        break\n",
    "        \n",
    "cam.release()\n",
    "cv2.destroyAllWindows()\n"
   ]
  }
 ],
 "metadata": {
  "kernelspec": {
   "display_name": "Python 3 (ipykernel)",
   "language": "python",
   "name": "python3"
  },
  "language_info": {
   "codemirror_mode": {
    "name": "ipython",
    "version": 3
   },
   "file_extension": ".py",
   "mimetype": "text/x-python",
   "name": "python",
   "nbconvert_exporter": "python",
   "pygments_lexer": "ipython3",
   "version": "3.11.4"
  }
 },
 "nbformat": 4,
 "nbformat_minor": 5
}
